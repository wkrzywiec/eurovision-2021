{
 "metadata": {
  "language_info": {
   "codemirror_mode": {
    "name": "ipython",
    "version": 3
   },
   "file_extension": ".py",
   "mimetype": "text/x-python",
   "name": "python",
   "nbconvert_exporter": "python",
   "pygments_lexer": "ipython3",
   "version": "3.8.1-final"
  },
  "orig_nbformat": 2,
  "kernelspec": {
   "name": "python3",
   "display_name": "Python 3.8.1 64-bit",
   "metadata": {
    "interpreter": {
     "hash": "1baa965d5efe3ac65b79dfc60c0d706280b1da80fedb7760faf2759126c4f253"
    }
   }
  }
 },
 "nbformat": 4,
 "nbformat_minor": 2,
 "cells": [
  {
   "source": [
    "# Script notebook\n",
    "\n",
    "A simple notebook to test script logic for downloading the data and plotting it. "
   ],
   "cell_type": "markdown",
   "metadata": {}
  },
  {
   "source": [
    "### Imports dependecies"
   ],
   "cell_type": "markdown",
   "metadata": {}
  },
  {
   "source": [
    "import pathlib\n",
    "import pandas as pd\n",
    "import os\n",
    "from googleapiclient.discovery import build\n",
    "from datetime import datetime\n",
    "import plotly.express as px"
   ],
   "cell_type": "code",
   "metadata": {},
   "execution_count": 1,
   "outputs": []
  },
  {
   "source": [
    "### Load video IDs from a file\n",
    "\n",
    "A `sources.csv` file holds a table of video ids for each contestant. "
   ],
   "cell_type": "markdown",
   "metadata": {}
  },
  {
   "cell_type": "code",
   "execution_count": 3,
   "metadata": {},
   "outputs": [],
   "source": [
    "current_path = pathlib.Path().absolute()\n",
    "df = pd.read_csv(str(current_path) + '\\\\sources.csv', sep=',')\n",
    "ids = df['key'].str.cat(sep=',')"
   ]
  },
  {
   "source": [
    "### Fetch data from YouTube\n",
    "\n",
    "Get current views statistics for each contestants using YouTube API"
   ],
   "cell_type": "markdown",
   "metadata": {}
  },
  {
   "cell_type": "code",
   "execution_count": 7,
   "metadata": {},
   "outputs": [],
   "source": [
    "api_key = os.getenv('YOUTUBE_API_KEY')\n",
    "youtube = build('youtube', 'v3', developerKey=api_key)\n",
    "request = youtube.videos().list(id=ids, part='statistics')\n",
    "response = request.execute()"
   ]
  },
  {
   "source": [
    "### Append data file\n",
    "\n",
    "Add current views data to a `data.csv` file, where all historical data are stored."
   ],
   "cell_type": "markdown",
   "metadata": {}
  },
  {
   "cell_type": "code",
   "execution_count": 8,
   "metadata": {},
   "outputs": [],
   "source": [
    "new_line = [datetime.now().strftime(\"%d/%m/%Y %H:%M:%S\")]\n",
    "\n",
    "for index, row in df.iterrows():\n",
    "    new_line.append(next((item for item in response['items'] if item['id'] == df['key'].at[index]), None)['statistics']['viewCount'])\n",
    "\n",
    "new_line_string = ','.join(map(str, new_line))\n",
    "\n",
    "with open(str(current_path) + '\\\\data.csv', 'a') as data:\n",
    "    data.write(f'\\n{new_line_string}')\n"
   ]
  },
  {
   "source": [
    "### Plot a chart\n",
    "\n",
    "A chart that shows how a number a views of each contestant changed in time. The one who will get the most views at the final day of the contest (Eurovision 2021 - 22 May 2021) will be probably the winner."
   ],
   "cell_type": "markdown",
   "metadata": {}
  },
  {
   "cell_type": "code",
   "execution_count": 6,
   "metadata": {},
   "outputs": [
    {
     "output_type": "display_data",
     "data": {
      "application/vnd.plotly.v1+json": {
       "config": {
        "plotlyServerURL": "https://plot.ly"
       },
       "data": [
        {
         "hovertemplate": "Country=Estonia<br>Date=%{x}<br>Views=%{y}<extra></extra>",
         "legendgroup": "Estonia",
         "line": {
          "color": "#636efa",
          "dash": "solid"
         },
         "mode": "lines",
         "name": "Estonia",
         "orientation": "v",
         "showlegend": true,
         "type": "scatter",
         "x": [
          "11/03/2021 06:51:11",
          "11/03/2021 12:17:42",
          "11/03/2021 18:17:28",
          "12/03/2021 00:31:33"
         ],
         "xaxis": "x",
         "y": [
          55297,
          63351,
          75407,
          89818
         ],
         "yaxis": "y"
        },
        {
         "hovertemplate": "Country=Switzerland<br>Date=%{x}<br>Views=%{y}<extra></extra>",
         "legendgroup": "Switzerland",
         "line": {
          "color": "#EF553B",
          "dash": "solid"
         },
         "mode": "lines",
         "name": "Switzerland",
         "orientation": "v",
         "showlegend": true,
         "type": "scatter",
         "x": [
          "11/03/2021 06:51:11",
          "11/03/2021 12:17:42",
          "11/03/2021 18:17:28",
          "12/03/2021 00:31:33"
         ],
         "xaxis": "x",
         "y": [
          249793,
          290527,
          344538,
          412486
         ],
         "yaxis": "y"
        },
        {
         "hovertemplate": "Country=Russia<br>Date=%{x}<br>Views=%{y}<extra></extra>",
         "legendgroup": "Russia",
         "line": {
          "color": "#00cc96",
          "dash": "solid"
         },
         "mode": "lines",
         "name": "Russia",
         "orientation": "v",
         "showlegend": true,
         "type": "scatter",
         "x": [
          "11/03/2021 06:51:11",
          "11/03/2021 12:17:42",
          "11/03/2021 18:17:28",
          "12/03/2021 00:31:33"
         ],
         "xaxis": "x",
         "y": [
          786200,
          1011618,
          1289732,
          1623692
         ],
         "yaxis": "y"
        },
        {
         "hovertemplate": "Country=Denmark<br>Date=%{x}<br>Views=%{y}<extra></extra>",
         "legendgroup": "Denmark",
         "line": {
          "color": "#ab63fa",
          "dash": "solid"
         },
         "mode": "lines",
         "name": "Denmark",
         "orientation": "v",
         "showlegend": true,
         "type": "scatter",
         "x": [
          "11/03/2021 06:51:11",
          "11/03/2021 12:17:42",
          "11/03/2021 18:17:28",
          "12/03/2021 00:31:33"
         ],
         "xaxis": "x",
         "y": [
          83309,
          88072,
          96326,
          107358
         ],
         "yaxis": "y"
        },
        {
         "hovertemplate": "Country=Austria<br>Date=%{x}<br>Views=%{y}<extra></extra>",
         "legendgroup": "Austria",
         "line": {
          "color": "#FFA15A",
          "dash": "solid"
         },
         "mode": "lines",
         "name": "Austria",
         "orientation": "v",
         "showlegend": true,
         "type": "scatter",
         "x": [
          "11/03/2021 06:51:11",
          "11/03/2021 12:17:42",
          "11/03/2021 18:17:28",
          "12/03/2021 00:31:33"
         ],
         "xaxis": "x",
         "y": [
          157495,
          169430,
          182454,
          202773
         ],
         "yaxis": "y"
        },
        {
         "hovertemplate": "Country=Australia<br>Date=%{x}<br>Views=%{y}<extra></extra>",
         "legendgroup": "Australia",
         "line": {
          "color": "#19d3f3",
          "dash": "solid"
         },
         "mode": "lines",
         "name": "Australia",
         "orientation": "v",
         "showlegend": true,
         "type": "scatter",
         "x": [
          "11/03/2021 06:51:11",
          "11/03/2021 12:17:42",
          "11/03/2021 18:17:28",
          "12/03/2021 00:31:33"
         ],
         "xaxis": "x",
         "y": [
          162502,
          172919,
          189432,
          212188
         ],
         "yaxis": "y"
        },
        {
         "hovertemplate": "Country=Spain<br>Date=%{x}<br>Views=%{y}<extra></extra>",
         "legendgroup": "Spain",
         "line": {
          "color": "#FF6692",
          "dash": "solid"
         },
         "mode": "lines",
         "name": "Spain",
         "orientation": "v",
         "showlegend": true,
         "type": "scatter",
         "x": [
          "11/03/2021 06:51:11",
          "11/03/2021 12:17:42",
          "11/03/2021 18:17:28",
          "12/03/2021 00:31:33"
         ],
         "xaxis": "x",
         "y": [
          103168,
          108719,
          119583,
          134959
         ],
         "yaxis": "y"
        },
        {
         "hovertemplate": "Country=Ukraine<br>Date=%{x}<br>Views=%{y}<extra></extra>",
         "legendgroup": "Ukraine",
         "line": {
          "color": "#B6E880",
          "dash": "solid"
         },
         "mode": "lines",
         "name": "Ukraine",
         "orientation": "v",
         "showlegend": true,
         "type": "scatter",
         "x": [
          "11/03/2021 06:51:11",
          "11/03/2021 12:17:42",
          "11/03/2021 18:17:28",
          "12/03/2021 00:31:33"
         ],
         "xaxis": "x",
         "y": [
          451445,
          503415,
          570653,
          665831
         ],
         "yaxis": "y"
        },
        {
         "hovertemplate": "Country=Cyprus<br>Date=%{x}<br>Views=%{y}<extra></extra>",
         "legendgroup": "Cyprus",
         "line": {
          "color": "#FF97FF",
          "dash": "solid"
         },
         "mode": "lines",
         "name": "Cyprus",
         "orientation": "v",
         "showlegend": true,
         "type": "scatter",
         "x": [
          "11/03/2021 06:51:11",
          "11/03/2021 12:17:42",
          "11/03/2021 18:17:28",
          "12/03/2021 00:31:33"
         ],
         "xaxis": "x",
         "y": [
          261900,
          273608,
          296358,
          327174
         ],
         "yaxis": "y"
        },
        {
         "hovertemplate": "Country=Portugal<br>Date=%{x}<br>Views=%{y}<extra></extra>",
         "legendgroup": "Portugal",
         "line": {
          "color": "#FECB52",
          "dash": "solid"
         },
         "mode": "lines",
         "name": "Portugal",
         "orientation": "v",
         "showlegend": true,
         "type": "scatter",
         "x": [
          "11/03/2021 06:51:11",
          "11/03/2021 12:17:42",
          "11/03/2021 18:17:28",
          "12/03/2021 00:31:33"
         ],
         "xaxis": "x",
         "y": [
          143707,
          147228,
          154680,
          165396
         ],
         "yaxis": "y"
        },
        {
         "hovertemplate": "Country=San Marino<br>Date=%{x}<br>Views=%{y}<extra></extra>",
         "legendgroup": "San Marino",
         "line": {
          "color": "#636efa",
          "dash": "solid"
         },
         "mode": "lines",
         "name": "San Marino",
         "orientation": "v",
         "showlegend": true,
         "type": "scatter",
         "x": [
          "11/03/2021 06:51:11",
          "11/03/2021 12:17:42",
          "11/03/2021 18:17:28",
          "12/03/2021 00:31:33"
         ],
         "xaxis": "x",
         "y": [
          479543,
          492518,
          517711,
          548174
         ],
         "yaxis": "y"
        },
        {
         "hovertemplate": "Country=Estonia.1<br>Date=%{x}<br>Views=%{y}<extra></extra>",
         "legendgroup": "Estonia.1",
         "line": {
          "color": "#EF553B",
          "dash": "solid"
         },
         "mode": "lines",
         "name": "Estonia.1",
         "orientation": "v",
         "showlegend": true,
         "type": "scatter",
         "x": [
          "11/03/2021 06:51:11",
          "11/03/2021 12:17:42",
          "11/03/2021 18:17:28",
          "12/03/2021 00:31:33"
         ],
         "xaxis": "x",
         "y": [
          153922,
          156246,
          160418,
          166046
         ],
         "yaxis": "y"
        },
        {
         "hovertemplate": "Country=Serbia<br>Date=%{x}<br>Views=%{y}<extra></extra>",
         "legendgroup": "Serbia",
         "line": {
          "color": "#00cc96",
          "dash": "solid"
         },
         "mode": "lines",
         "name": "Serbia",
         "orientation": "v",
         "showlegend": true,
         "type": "scatter",
         "x": [
          "11/03/2021 06:51:11",
          "11/03/2021 12:17:42",
          "11/03/2021 18:17:28",
          "12/03/2021 00:31:33"
         ],
         "xaxis": "x",
         "y": [
          2573337,
          2629181,
          2741516,
          2891561
         ],
         "yaxis": "y"
        },
        {
         "hovertemplate": "Country=Netherlands<br>Date=%{x}<br>Views=%{y}<extra></extra>",
         "legendgroup": "Netherlands",
         "line": {
          "color": "#ab63fa",
          "dash": "solid"
         },
         "mode": "lines",
         "name": "Netherlands",
         "orientation": "v",
         "showlegend": true,
         "type": "scatter",
         "x": [
          "11/03/2021 06:51:11",
          "11/03/2021 12:17:42",
          "11/03/2021 18:17:28",
          "12/03/2021 00:31:33"
         ],
         "xaxis": "x",
         "y": [
          301411,
          305124,
          311734,
          322438
         ],
         "yaxis": "y"
        },
        {
         "hovertemplate": "Country=Moldova<br>Date=%{x}<br>Views=%{y}<extra></extra>",
         "legendgroup": "Moldova",
         "line": {
          "color": "#FFA15A",
          "dash": "solid"
         },
         "mode": "lines",
         "name": "Moldova",
         "orientation": "v",
         "showlegend": true,
         "type": "scatter",
         "x": [
          "11/03/2021 06:51:11",
          "11/03/2021 12:17:42",
          "11/03/2021 18:17:28",
          "12/03/2021 00:31:33"
         ],
         "xaxis": "x",
         "y": [
          739438,
          748235,
          763549,
          787934
         ],
         "yaxis": "y"
        },
        {
         "hovertemplate": "Country=Romania<br>Date=%{x}<br>Views=%{y}<extra></extra>",
         "legendgroup": "Romania",
         "line": {
          "color": "#19d3f3",
          "dash": "solid"
         },
         "mode": "lines",
         "name": "Romania",
         "orientation": "v",
         "showlegend": true,
         "type": "scatter",
         "x": [
          "11/03/2021 06:51:11",
          "11/03/2021 12:17:42",
          "11/03/2021 18:17:28",
          "12/03/2021 00:31:33"
         ],
         "xaxis": "x",
         "y": [
          588721,
          600344,
          618198,
          643539
         ],
         "yaxis": "y"
        },
        {
         "hovertemplate": "Country=Belgium<br>Date=%{x}<br>Views=%{y}<extra></extra>",
         "legendgroup": "Belgium",
         "line": {
          "color": "#FF6692",
          "dash": "solid"
         },
         "mode": "lines",
         "name": "Belgium",
         "orientation": "v",
         "showlegend": true,
         "type": "scatter",
         "x": [
          "11/03/2021 06:51:11",
          "11/03/2021 12:17:42",
          "11/03/2021 18:17:28",
          "12/03/2021 00:31:33"
         ],
         "xaxis": "x",
         "y": [
          457485,
          461429,
          467615,
          480006
         ],
         "yaxis": "y"
        },
        {
         "hovertemplate": "Country=Albania<br>Date=%{x}<br>Views=%{y}<extra></extra>",
         "legendgroup": "Albania",
         "line": {
          "color": "#B6E880",
          "dash": "solid"
         },
         "mode": "lines",
         "name": "Albania",
         "orientation": "v",
         "showlegend": true,
         "type": "scatter",
         "x": [
          "11/03/2021 06:51:11",
          "11/03/2021 12:17:42",
          "11/03/2021 18:17:28",
          "12/03/2021 00:31:33"
         ],
         "xaxis": "x",
         "y": [
          325735,
          328814,
          334886,
          343537
         ],
         "yaxis": "y"
        },
        {
         "hovertemplate": "Country=Slovenia<br>Date=%{x}<br>Views=%{y}<extra></extra>",
         "legendgroup": "Slovenia",
         "line": {
          "color": "#FF97FF",
          "dash": "solid"
         },
         "mode": "lines",
         "name": "Slovenia",
         "orientation": "v",
         "showlegend": true,
         "type": "scatter",
         "x": [
          "11/03/2021 06:51:11",
          "11/03/2021 12:17:42",
          "11/03/2021 18:17:28",
          "12/03/2021 00:31:33"
         ],
         "xaxis": "x",
         "y": [
          591900,
          596213,
          609085,
          621847
         ],
         "yaxis": "y"
        },
        {
         "hovertemplate": "Country=Ireland<br>Date=%{x}<br>Views=%{y}<extra></extra>",
         "legendgroup": "Ireland",
         "line": {
          "color": "#FECB52",
          "dash": "solid"
         },
         "mode": "lines",
         "name": "Ireland",
         "orientation": "v",
         "showlegend": true,
         "type": "scatter",
         "x": [
          "11/03/2021 06:51:11",
          "11/03/2021 12:17:42",
          "11/03/2021 18:17:28",
          "12/03/2021 00:31:33"
         ],
         "xaxis": "x",
         "y": [
          491809,
          494996,
          503147,
          513944
         ],
         "yaxis": "y"
        },
        {
         "hovertemplate": "Country=Germany<br>Date=%{x}<br>Views=%{y}<extra></extra>",
         "legendgroup": "Germany",
         "line": {
          "color": "#636efa",
          "dash": "solid"
         },
         "mode": "lines",
         "name": "Germany",
         "orientation": "v",
         "showlegend": true,
         "type": "scatter",
         "x": [
          "11/03/2021 06:51:11",
          "11/03/2021 12:17:42",
          "11/03/2021 18:17:28",
          "12/03/2021 00:31:33"
         ],
         "xaxis": "x",
         "y": [
          836026,
          841626,
          851853,
          867038
         ],
         "yaxis": "y"
        },
        {
         "hovertemplate": "Country=Finland<br>Date=%{x}<br>Views=%{y}<extra></extra>",
         "legendgroup": "Finland",
         "line": {
          "color": "#EF553B",
          "dash": "solid"
         },
         "mode": "lines",
         "name": "Finland",
         "orientation": "v",
         "showlegend": true,
         "type": "scatter",
         "x": [
          "11/03/2021 06:51:11",
          "11/03/2021 12:17:42",
          "11/03/2021 18:17:28",
          "12/03/2021 00:31:33"
         ],
         "xaxis": "x",
         "y": [
          640728,
          651684,
          670220,
          700412
         ],
         "yaxis": "y"
        },
        {
         "hovertemplate": "Country=Norway<br>Date=%{x}<br>Views=%{y}<extra></extra>",
         "legendgroup": "Norway",
         "line": {
          "color": "#00cc96",
          "dash": "solid"
         },
         "mode": "lines",
         "name": "Norway",
         "orientation": "v",
         "showlegend": true,
         "type": "scatter",
         "x": [
          "11/03/2021 06:51:11",
          "11/03/2021 12:17:42",
          "11/03/2021 18:17:28",
          "12/03/2021 00:31:33"
         ],
         "xaxis": "x",
         "y": [
          921748,
          926958,
          937213,
          951890
         ],
         "yaxis": "y"
        },
        {
         "hovertemplate": "Country=Czech Republic<br>Date=%{x}<br>Views=%{y}<extra></extra>",
         "legendgroup": "Czech Republic",
         "line": {
          "color": "#ab63fa",
          "dash": "solid"
         },
         "mode": "lines",
         "name": "Czech Republic",
         "orientation": "v",
         "showlegend": true,
         "type": "scatter",
         "x": [
          "11/03/2021 06:51:11",
          "11/03/2021 12:17:42",
          "11/03/2021 18:17:28",
          "12/03/2021 00:31:33"
         ],
         "xaxis": "x",
         "y": [
          373478,
          375606,
          380106,
          386774
         ],
         "yaxis": "y"
        },
        {
         "hovertemplate": "Country=Croatia<br>Date=%{x}<br>Views=%{y}<extra></extra>",
         "legendgroup": "Croatia",
         "line": {
          "color": "#FFA15A",
          "dash": "solid"
         },
         "mode": "lines",
         "name": "Croatia",
         "orientation": "v",
         "showlegend": true,
         "type": "scatter",
         "x": [
          "11/03/2021 06:51:11",
          "11/03/2021 12:17:42",
          "11/03/2021 18:17:28",
          "12/03/2021 00:31:33"
         ],
         "xaxis": "x",
         "y": [
          1844455,
          1853632,
          1868201,
          1885755
         ],
         "yaxis": "y"
        },
        {
         "hovertemplate": "Country=France<br>Date=%{x}<br>Views=%{y}<extra></extra>",
         "legendgroup": "France",
         "line": {
          "color": "#19d3f3",
          "dash": "solid"
         },
         "mode": "lines",
         "name": "France",
         "orientation": "v",
         "showlegend": true,
         "type": "scatter",
         "x": [
          "11/03/2021 06:51:11",
          "11/03/2021 12:17:42",
          "11/03/2021 18:17:28",
          "12/03/2021 00:31:33"
         ],
         "xaxis": "x",
         "y": [
          471425,
          475514,
          483670,
          495421
         ],
         "yaxis": "y"
        },
        {
         "hovertemplate": "Country=Lithuania<br>Date=%{x}<br>Views=%{y}<extra></extra>",
         "legendgroup": "Lithuania",
         "line": {
          "color": "#FF6692",
          "dash": "solid"
         },
         "mode": "lines",
         "name": "Lithuania",
         "orientation": "v",
         "showlegend": true,
         "type": "scatter",
         "x": [
          "11/03/2021 06:51:11",
          "11/03/2021 12:17:42",
          "11/03/2021 18:17:28",
          "12/03/2021 00:31:33"
         ],
         "xaxis": "x",
         "y": [
          942288,
          947916,
          959122,
          974970
         ],
         "yaxis": "y"
        },
        {
         "hovertemplate": "Country=Israel<br>Date=%{x}<br>Views=%{y}<extra></extra>",
         "legendgroup": "Israel",
         "line": {
          "color": "#B6E880",
          "dash": "solid"
         },
         "mode": "lines",
         "name": "Israel",
         "orientation": "v",
         "showlegend": true,
         "type": "scatter",
         "x": [
          "11/03/2021 06:51:11",
          "11/03/2021 12:17:42",
          "11/03/2021 18:17:28",
          "12/03/2021 00:31:33"
         ],
         "xaxis": "x",
         "y": [
          818990,
          822868,
          830052,
          840741
         ],
         "yaxis": "y"
        },
        {
         "hovertemplate": "Country=UK<br>Date=%{x}<br>Views=%{y}<extra></extra>",
         "legendgroup": "UK",
         "line": {
          "color": "#FF97FF",
          "dash": "solid"
         },
         "mode": "lines",
         "name": "UK",
         "orientation": "v",
         "showlegend": true,
         "type": "scatter",
         "x": [
          "11/03/2021 06:51:11",
          "11/03/2021 12:17:42",
          "11/03/2021 18:17:28",
          "12/03/2021 00:31:33"
         ],
         "xaxis": "x",
         "y": [
          0,
          46640,
          160629,
          274088
         ],
         "yaxis": "y"
        },
        {
         "hovertemplate": "Country=North Macedonia<br>Date=%{x}<br>Views=%{y}<extra></extra>",
         "legendgroup": "North Macedonia",
         "line": {
          "color": "#FECB52",
          "dash": "solid"
         },
         "mode": "lines",
         "name": "North Macedonia",
         "orientation": "v",
         "showlegend": true,
         "type": "scatter",
         "x": [
          "11/03/2021 06:51:11",
          "11/03/2021 12:17:42",
          "11/03/2021 18:17:28",
          "12/03/2021 00:31:33"
         ],
         "xaxis": "x",
         "y": [
          0,
          0,
          21984,
          103149
         ],
         "yaxis": "y"
        }
       ],
       "layout": {
        "legend": {
         "title": {
          "text": "Country"
         },
         "tracegroupgap": 0
        },
        "template": {
         "data": {
          "bar": [
           {
            "error_x": {
             "color": "#2a3f5f"
            },
            "error_y": {
             "color": "#2a3f5f"
            },
            "marker": {
             "line": {
              "color": "#E5ECF6",
              "width": 0.5
             }
            },
            "type": "bar"
           }
          ],
          "barpolar": [
           {
            "marker": {
             "line": {
              "color": "#E5ECF6",
              "width": 0.5
             }
            },
            "type": "barpolar"
           }
          ],
          "carpet": [
           {
            "aaxis": {
             "endlinecolor": "#2a3f5f",
             "gridcolor": "white",
             "linecolor": "white",
             "minorgridcolor": "white",
             "startlinecolor": "#2a3f5f"
            },
            "baxis": {
             "endlinecolor": "#2a3f5f",
             "gridcolor": "white",
             "linecolor": "white",
             "minorgridcolor": "white",
             "startlinecolor": "#2a3f5f"
            },
            "type": "carpet"
           }
          ],
          "choropleth": [
           {
            "colorbar": {
             "outlinewidth": 0,
             "ticks": ""
            },
            "type": "choropleth"
           }
          ],
          "contour": [
           {
            "colorbar": {
             "outlinewidth": 0,
             "ticks": ""
            },
            "colorscale": [
             [
              0,
              "#0d0887"
             ],
             [
              0.1111111111111111,
              "#46039f"
             ],
             [
              0.2222222222222222,
              "#7201a8"
             ],
             [
              0.3333333333333333,
              "#9c179e"
             ],
             [
              0.4444444444444444,
              "#bd3786"
             ],
             [
              0.5555555555555556,
              "#d8576b"
             ],
             [
              0.6666666666666666,
              "#ed7953"
             ],
             [
              0.7777777777777778,
              "#fb9f3a"
             ],
             [
              0.8888888888888888,
              "#fdca26"
             ],
             [
              1,
              "#f0f921"
             ]
            ],
            "type": "contour"
           }
          ],
          "contourcarpet": [
           {
            "colorbar": {
             "outlinewidth": 0,
             "ticks": ""
            },
            "type": "contourcarpet"
           }
          ],
          "heatmap": [
           {
            "colorbar": {
             "outlinewidth": 0,
             "ticks": ""
            },
            "colorscale": [
             [
              0,
              "#0d0887"
             ],
             [
              0.1111111111111111,
              "#46039f"
             ],
             [
              0.2222222222222222,
              "#7201a8"
             ],
             [
              0.3333333333333333,
              "#9c179e"
             ],
             [
              0.4444444444444444,
              "#bd3786"
             ],
             [
              0.5555555555555556,
              "#d8576b"
             ],
             [
              0.6666666666666666,
              "#ed7953"
             ],
             [
              0.7777777777777778,
              "#fb9f3a"
             ],
             [
              0.8888888888888888,
              "#fdca26"
             ],
             [
              1,
              "#f0f921"
             ]
            ],
            "type": "heatmap"
           }
          ],
          "heatmapgl": [
           {
            "colorbar": {
             "outlinewidth": 0,
             "ticks": ""
            },
            "colorscale": [
             [
              0,
              "#0d0887"
             ],
             [
              0.1111111111111111,
              "#46039f"
             ],
             [
              0.2222222222222222,
              "#7201a8"
             ],
             [
              0.3333333333333333,
              "#9c179e"
             ],
             [
              0.4444444444444444,
              "#bd3786"
             ],
             [
              0.5555555555555556,
              "#d8576b"
             ],
             [
              0.6666666666666666,
              "#ed7953"
             ],
             [
              0.7777777777777778,
              "#fb9f3a"
             ],
             [
              0.8888888888888888,
              "#fdca26"
             ],
             [
              1,
              "#f0f921"
             ]
            ],
            "type": "heatmapgl"
           }
          ],
          "histogram": [
           {
            "marker": {
             "colorbar": {
              "outlinewidth": 0,
              "ticks": ""
             }
            },
            "type": "histogram"
           }
          ],
          "histogram2d": [
           {
            "colorbar": {
             "outlinewidth": 0,
             "ticks": ""
            },
            "colorscale": [
             [
              0,
              "#0d0887"
             ],
             [
              0.1111111111111111,
              "#46039f"
             ],
             [
              0.2222222222222222,
              "#7201a8"
             ],
             [
              0.3333333333333333,
              "#9c179e"
             ],
             [
              0.4444444444444444,
              "#bd3786"
             ],
             [
              0.5555555555555556,
              "#d8576b"
             ],
             [
              0.6666666666666666,
              "#ed7953"
             ],
             [
              0.7777777777777778,
              "#fb9f3a"
             ],
             [
              0.8888888888888888,
              "#fdca26"
             ],
             [
              1,
              "#f0f921"
             ]
            ],
            "type": "histogram2d"
           }
          ],
          "histogram2dcontour": [
           {
            "colorbar": {
             "outlinewidth": 0,
             "ticks": ""
            },
            "colorscale": [
             [
              0,
              "#0d0887"
             ],
             [
              0.1111111111111111,
              "#46039f"
             ],
             [
              0.2222222222222222,
              "#7201a8"
             ],
             [
              0.3333333333333333,
              "#9c179e"
             ],
             [
              0.4444444444444444,
              "#bd3786"
             ],
             [
              0.5555555555555556,
              "#d8576b"
             ],
             [
              0.6666666666666666,
              "#ed7953"
             ],
             [
              0.7777777777777778,
              "#fb9f3a"
             ],
             [
              0.8888888888888888,
              "#fdca26"
             ],
             [
              1,
              "#f0f921"
             ]
            ],
            "type": "histogram2dcontour"
           }
          ],
          "mesh3d": [
           {
            "colorbar": {
             "outlinewidth": 0,
             "ticks": ""
            },
            "type": "mesh3d"
           }
          ],
          "parcoords": [
           {
            "line": {
             "colorbar": {
              "outlinewidth": 0,
              "ticks": ""
             }
            },
            "type": "parcoords"
           }
          ],
          "pie": [
           {
            "automargin": true,
            "type": "pie"
           }
          ],
          "scatter": [
           {
            "marker": {
             "colorbar": {
              "outlinewidth": 0,
              "ticks": ""
             }
            },
            "type": "scatter"
           }
          ],
          "scatter3d": [
           {
            "line": {
             "colorbar": {
              "outlinewidth": 0,
              "ticks": ""
             }
            },
            "marker": {
             "colorbar": {
              "outlinewidth": 0,
              "ticks": ""
             }
            },
            "type": "scatter3d"
           }
          ],
          "scattercarpet": [
           {
            "marker": {
             "colorbar": {
              "outlinewidth": 0,
              "ticks": ""
             }
            },
            "type": "scattercarpet"
           }
          ],
          "scattergeo": [
           {
            "marker": {
             "colorbar": {
              "outlinewidth": 0,
              "ticks": ""
             }
            },
            "type": "scattergeo"
           }
          ],
          "scattergl": [
           {
            "marker": {
             "colorbar": {
              "outlinewidth": 0,
              "ticks": ""
             }
            },
            "type": "scattergl"
           }
          ],
          "scattermapbox": [
           {
            "marker": {
             "colorbar": {
              "outlinewidth": 0,
              "ticks": ""
             }
            },
            "type": "scattermapbox"
           }
          ],
          "scatterpolar": [
           {
            "marker": {
             "colorbar": {
              "outlinewidth": 0,
              "ticks": ""
             }
            },
            "type": "scatterpolar"
           }
          ],
          "scatterpolargl": [
           {
            "marker": {
             "colorbar": {
              "outlinewidth": 0,
              "ticks": ""
             }
            },
            "type": "scatterpolargl"
           }
          ],
          "scatterternary": [
           {
            "marker": {
             "colorbar": {
              "outlinewidth": 0,
              "ticks": ""
             }
            },
            "type": "scatterternary"
           }
          ],
          "surface": [
           {
            "colorbar": {
             "outlinewidth": 0,
             "ticks": ""
            },
            "colorscale": [
             [
              0,
              "#0d0887"
             ],
             [
              0.1111111111111111,
              "#46039f"
             ],
             [
              0.2222222222222222,
              "#7201a8"
             ],
             [
              0.3333333333333333,
              "#9c179e"
             ],
             [
              0.4444444444444444,
              "#bd3786"
             ],
             [
              0.5555555555555556,
              "#d8576b"
             ],
             [
              0.6666666666666666,
              "#ed7953"
             ],
             [
              0.7777777777777778,
              "#fb9f3a"
             ],
             [
              0.8888888888888888,
              "#fdca26"
             ],
             [
              1,
              "#f0f921"
             ]
            ],
            "type": "surface"
           }
          ],
          "table": [
           {
            "cells": {
             "fill": {
              "color": "#EBF0F8"
             },
             "line": {
              "color": "white"
             }
            },
            "header": {
             "fill": {
              "color": "#C8D4E3"
             },
             "line": {
              "color": "white"
             }
            },
            "type": "table"
           }
          ]
         },
         "layout": {
          "annotationdefaults": {
           "arrowcolor": "#2a3f5f",
           "arrowhead": 0,
           "arrowwidth": 1
          },
          "autotypenumbers": "strict",
          "coloraxis": {
           "colorbar": {
            "outlinewidth": 0,
            "ticks": ""
           }
          },
          "colorscale": {
           "diverging": [
            [
             0,
             "#8e0152"
            ],
            [
             0.1,
             "#c51b7d"
            ],
            [
             0.2,
             "#de77ae"
            ],
            [
             0.3,
             "#f1b6da"
            ],
            [
             0.4,
             "#fde0ef"
            ],
            [
             0.5,
             "#f7f7f7"
            ],
            [
             0.6,
             "#e6f5d0"
            ],
            [
             0.7,
             "#b8e186"
            ],
            [
             0.8,
             "#7fbc41"
            ],
            [
             0.9,
             "#4d9221"
            ],
            [
             1,
             "#276419"
            ]
           ],
           "sequential": [
            [
             0,
             "#0d0887"
            ],
            [
             0.1111111111111111,
             "#46039f"
            ],
            [
             0.2222222222222222,
             "#7201a8"
            ],
            [
             0.3333333333333333,
             "#9c179e"
            ],
            [
             0.4444444444444444,
             "#bd3786"
            ],
            [
             0.5555555555555556,
             "#d8576b"
            ],
            [
             0.6666666666666666,
             "#ed7953"
            ],
            [
             0.7777777777777778,
             "#fb9f3a"
            ],
            [
             0.8888888888888888,
             "#fdca26"
            ],
            [
             1,
             "#f0f921"
            ]
           ],
           "sequentialminus": [
            [
             0,
             "#0d0887"
            ],
            [
             0.1111111111111111,
             "#46039f"
            ],
            [
             0.2222222222222222,
             "#7201a8"
            ],
            [
             0.3333333333333333,
             "#9c179e"
            ],
            [
             0.4444444444444444,
             "#bd3786"
            ],
            [
             0.5555555555555556,
             "#d8576b"
            ],
            [
             0.6666666666666666,
             "#ed7953"
            ],
            [
             0.7777777777777778,
             "#fb9f3a"
            ],
            [
             0.8888888888888888,
             "#fdca26"
            ],
            [
             1,
             "#f0f921"
            ]
           ]
          },
          "colorway": [
           "#636efa",
           "#EF553B",
           "#00cc96",
           "#ab63fa",
           "#FFA15A",
           "#19d3f3",
           "#FF6692",
           "#B6E880",
           "#FF97FF",
           "#FECB52"
          ],
          "font": {
           "color": "#2a3f5f"
          },
          "geo": {
           "bgcolor": "white",
           "lakecolor": "white",
           "landcolor": "#E5ECF6",
           "showlakes": true,
           "showland": true,
           "subunitcolor": "white"
          },
          "hoverlabel": {
           "align": "left"
          },
          "hovermode": "closest",
          "mapbox": {
           "style": "light"
          },
          "paper_bgcolor": "white",
          "plot_bgcolor": "#E5ECF6",
          "polar": {
           "angularaxis": {
            "gridcolor": "white",
            "linecolor": "white",
            "ticks": ""
           },
           "bgcolor": "#E5ECF6",
           "radialaxis": {
            "gridcolor": "white",
            "linecolor": "white",
            "ticks": ""
           }
          },
          "scene": {
           "xaxis": {
            "backgroundcolor": "#E5ECF6",
            "gridcolor": "white",
            "gridwidth": 2,
            "linecolor": "white",
            "showbackground": true,
            "ticks": "",
            "zerolinecolor": "white"
           },
           "yaxis": {
            "backgroundcolor": "#E5ECF6",
            "gridcolor": "white",
            "gridwidth": 2,
            "linecolor": "white",
            "showbackground": true,
            "ticks": "",
            "zerolinecolor": "white"
           },
           "zaxis": {
            "backgroundcolor": "#E5ECF6",
            "gridcolor": "white",
            "gridwidth": 2,
            "linecolor": "white",
            "showbackground": true,
            "ticks": "",
            "zerolinecolor": "white"
           }
          },
          "shapedefaults": {
           "line": {
            "color": "#2a3f5f"
           }
          },
          "ternary": {
           "aaxis": {
            "gridcolor": "white",
            "linecolor": "white",
            "ticks": ""
           },
           "baxis": {
            "gridcolor": "white",
            "linecolor": "white",
            "ticks": ""
           },
           "bgcolor": "#E5ECF6",
           "caxis": {
            "gridcolor": "white",
            "linecolor": "white",
            "ticks": ""
           }
          },
          "title": {
           "x": 0.05
          },
          "xaxis": {
           "automargin": true,
           "gridcolor": "white",
           "linecolor": "white",
           "ticks": "",
           "title": {
            "standoff": 15
           },
           "zerolinecolor": "white",
           "zerolinewidth": 2
          },
          "yaxis": {
           "automargin": true,
           "gridcolor": "white",
           "linecolor": "white",
           "ticks": "",
           "title": {
            "standoff": 15
           },
           "zerolinecolor": "white",
           "zerolinewidth": 2
          }
         }
        },
        "title": {
         "text": "YouTube views of 2021 Eurovision song contestants"
        },
        "xaxis": {
         "anchor": "y",
         "domain": [
          0,
          1
         ],
         "title": {
          "text": "Date"
         }
        },
        "yaxis": {
         "anchor": "x",
         "domain": [
          0,
          1
         ],
         "title": {
          "text": "Views"
         }
        }
       }
      }
     },
     "metadata": {}
    }
   ],
   "source": [
    "df2 = pd.read_csv(str(current_path) + '\\\\data.csv', sep=',')\n",
    "\n",
    "fig = px.line(df2, x='time', y=df2.columns,title='YouTube views of 2021 Eurovision song contestants',\n",
    "    labels={\n",
    "        \"value\": \"Views\",\n",
    "        \"time\": \"Date\",\n",
    "        \"variable\": \"Country\"\n",
    "    })\n",
    "fig.write_html(str(current_path) + '\\\\line.html')\n",
    "fig.show()"
   ]
  },
  {
   "source": [
    "### Delete last line in `data.csv` file\n",
    "\n",
    "Its just for testing, delete last line in `data.csv` file."
   ],
   "cell_type": "markdown",
   "metadata": {}
  },
  {
   "cell_type": "code",
   "execution_count": null,
   "metadata": {},
   "outputs": [],
   "source": []
  }
 ]
}